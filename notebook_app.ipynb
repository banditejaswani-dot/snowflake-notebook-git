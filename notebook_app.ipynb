{
 "cells": [
  {
   "cell_type": "markdown",
   "id": "f67fd10f",
   "metadata": {},
   "source": [
    "# Sample Jupyter Notebook\n",
    "This is a demonstration of a simple Jupyter Notebook (`.ipynb`) file."
   ]
  },
  {
   "cell_type": "markdown",
   "id": "cef76fe5",
   "metadata": {},
   "source": [
    "## Introduction\n",
    "You can write text in *Markdown* cells, and run Python code in *Code* cells below."
   ]
  },
  {
   "cell_type": "code",
   "execution_count": null,
   "id": "06775c18",
   "metadata": {},
   "outputs": [],
   "source": [
    "print('Hello, world!')"
   ]
  },
  {
   "cell_type": "markdown",
   "id": "0da7c972",
   "metadata": {},
   "source": [
    "## Basic Math Example"
   ]
  },
  {
   "cell_type": "code",
   "execution_count": null,
   "id": "c0de5373",
   "metadata": {},
   "outputs": [],
   "source": [
    "a = 5\n",
    "b = 7\n",
    "print('Sum:', a + b)"
   ]
  },
  {
   "cell_type": "markdown",
   "id": "ffe630ff",
   "metadata": {},
   "source": [
    "## List Comprehension Example"
   ]
  },
  {
   "cell_type": "code",
   "execution_count": null,
   "id": "d53be7ef",
   "metadata": {},
   "outputs": [],
   "source": [
    "squares = [x**2 for x in range(10)]\n",
    "print('Squares:', squares)"
   ]
  },
  {
   "cell_type": "markdown",
   "id": "9cfbcaeb",
   "metadata": {},
   "source": [
    "## Plotting Example"
   ]
  },
  {
   "cell_type": "code",
   "execution_count": null,
   "id": "062d8b84",
   "metadata": {},
   "outputs": [],
   "source": [
    "import matplotlib.pyplot as plt\n",
    "plt.plot([1, 2, 3, 4], [1, 4, 9, 16], marker='o')\n",
    "plt.title('Simple Plot')\n",
    "plt.xlabel('x')\n",
    "plt.ylabel('y')\n",
    "plt.show()"
   ]
  },
  {
   "cell_type": "markdown",
   "id": "22e41c3b",
   "metadata": {},
   "source": [
    "You can add more cells and experiment with Python code and Markdown formatting!"
   ]
  }
 ],
 "metadata": {},
 "nbformat": 4,
 "nbformat_minor": 5
}
