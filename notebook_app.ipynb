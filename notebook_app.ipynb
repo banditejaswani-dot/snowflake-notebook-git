{
 "metadata": {
  "lastEditStatus": {
   "notebookId": "bno3vpu2rjd47av46yin",
   "authorId": "2388513121753",
   "authorName": "TEJASWANIB",
   "authorEmail": "bandi.tejaswani@capgemini.com",
   "sessionId": "0a4186f1-361c-43b0-9ac2-82ce1f7b084e",
   "lastEditTime": 1758622805708
  }
 },
 "nbformat_minor": 5,
 "nbformat": 4,
 "cells": [
  {
   "cell_type": "markdown",
   "id": "b5d81e96-d801-442f-935b-88f44f19f875",
   "metadata": {
    "name": "cell1",
    "collapsed": false
   },
   "source": "# Sample Jupyter Notebook\nThis is a demonstration of a simple Jupyter Notebook (`.ipynb`) file."
  },
  {
   "cell_type": "markdown",
   "id": "14ad7594-1cc6-4d75-afd2-40733cb22c5c",
   "metadata": {
    "name": "cell2"
   },
   "source": [
    "## Introduction\n",
    "You can write text in *Markdown* cells, and run Python code in *Code* cells below."
   ]
  },
  {
   "cell_type": "code",
   "execution_count": null,
   "id": "9349781c-7301-42f6-8da5-91fdba36500a",
   "metadata": {
    "name": "cell3",
    "language": "python"
   },
   "outputs": [],
   "source": [
    "print('Hello, world!')"
   ]
  },
  {
   "cell_type": "markdown",
   "id": "c80a9c2b-cd96-4793-9237-c577afee76a1",
   "metadata": {
    "name": "cell4"
   },
   "source": [
    "## Basic Math Example"
   ]
  },
  {
   "cell_type": "code",
   "execution_count": null,
   "id": "7a2eebfd-aaef-4a29-9e3a-b189b8e20d8c",
   "metadata": {
    "name": "cell5",
    "language": "python"
   },
   "outputs": [],
   "source": "a = 5\nb = 3\nprint('Sum:', a + b)"
  },
  {
   "cell_type": "markdown",
   "id": "931f4ff7-4517-4b5c-9461-6e034c1e3d87",
   "metadata": {
    "name": "cell6"
   },
   "source": [
    "## List Comprehension Example"
   ]
  },
  {
   "cell_type": "code",
   "execution_count": null,
   "id": "348e8f4a-b7a7-40be-8543-e132db3ee206",
   "metadata": {
    "name": "cell7",
    "language": "python",
    "collapsed": false,
    "codeCollapsed": false
   },
   "outputs": [],
   "source": [
    "squares = [x**2 for x in range(10)]\n",
    "print('Squares:', squares)"
   ]
  },
  {
   "cell_type": "markdown",
   "id": "ca667de5-2093-47a0-93ef-ce9e0a6df3ae",
   "metadata": {
    "name": "cell8"
   },
   "source": [
    "## Plotting Example"
   ]
  },
  {
   "cell_type": "code",
   "execution_count": null,
   "id": "4b996faa-1ce5-4a7e-98a4-e9bc656df644",
   "metadata": {
    "name": "cell9",
    "language": "python",
    "collapsed": false,
    "codeCollapsed": false
   },
   "outputs": [],
   "source": [
    "import matplotlib.pyplot as plt\n",
    "plt.plot([1, 2, 3, 4], [1, 4, 9, 16], marker='o')\n",
    "plt.title('Simple Plot')\n",
    "plt.xlabel('x')\n",
    "plt.ylabel('y')\n",
    "plt.show()"
   ]
  },
  {
   "cell_type": "markdown",
   "id": "f76522fc-bf83-450c-931d-ac5c12c46628",
   "metadata": {
    "name": "cell10",
    "collapsed": false
   },
   "source": [
    "You can add more cells and experiment with Python code and Markdown formatting!"
   ]
  }
 ]
}